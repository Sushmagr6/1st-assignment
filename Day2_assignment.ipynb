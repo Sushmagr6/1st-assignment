{
  "nbformat": 4,
  "nbformat_minor": 0,
  "metadata": {
    "colab": {
      "name": "Day2 assignment",
      "provenance": [],
      "collapsed_sections": [],
      "authorship_tag": "ABX9TyNUQm1aNMNJHekoGSPdLiTx",
      "include_colab_link": true
    },
    "kernelspec": {
      "name": "python3",
      "display_name": "Python 3"
    },
    "language_info": {
      "name": "python"
    }
  },
  "cells": [
    {
      "cell_type": "markdown",
      "metadata": {
        "id": "view-in-github",
        "colab_type": "text"
      },
      "source": [
        "<a href=\"https://colab.research.google.com/github/Sushmagr6/1st-assignment/blob/main/Day2_assignment.ipynb\" target=\"_parent\"><img src=\"https://colab.research.google.com/assets/colab-badge.svg\" alt=\"Open In Colab\"/></a>"
      ]
    },
    {
      "cell_type": "code",
      "metadata": {
        "id": "2p49KEmmHo2P"
      },
      "source": [
        "import matplotlib.pyplot as plt\n",
        "import numpy as np\n",
        "import pandas as pd\n",
        "%matplotlib inline\n",
        "import seaborn as sns\n",
        "from numpy.random import randn, randint, uniform, sample"
      ],
      "execution_count": null,
      "outputs": []
    },
    {
      "cell_type": "code",
      "metadata": {
        "id": "lGar__POHuGt"
      },
      "source": [
        "df = pd.DataFrame(randn(10,4)*100, columns = ['a','b','c','d'])"
      ],
      "execution_count": null,
      "outputs": []
    },
    {
      "cell_type": "code",
      "metadata": {
        "id": "CJw6xE-gHvyC",
        "colab": {
          "base_uri": "https://localhost:8080/",
          "height": 359
        },
        "outputId": "665e9e8e-3c92-4baf-f3fb-46b3a64b112c"
      },
      "source": [
        "df"
      ],
      "execution_count": null,
      "outputs": [
        {
          "output_type": "execute_result",
          "data": {
            "text/html": [
              "<div>\n",
              "<style scoped>\n",
              "    .dataframe tbody tr th:only-of-type {\n",
              "        vertical-align: middle;\n",
              "    }\n",
              "\n",
              "    .dataframe tbody tr th {\n",
              "        vertical-align: top;\n",
              "    }\n",
              "\n",
              "    .dataframe thead th {\n",
              "        text-align: right;\n",
              "    }\n",
              "</style>\n",
              "<table border=\"1\" class=\"dataframe\">\n",
              "  <thead>\n",
              "    <tr style=\"text-align: right;\">\n",
              "      <th></th>\n",
              "      <th>a</th>\n",
              "      <th>b</th>\n",
              "      <th>c</th>\n",
              "      <th>d</th>\n",
              "    </tr>\n",
              "  </thead>\n",
              "  <tbody>\n",
              "    <tr>\n",
              "      <th>0</th>\n",
              "      <td>-1.572347</td>\n",
              "      <td>88.625021</td>\n",
              "      <td>135.435318</td>\n",
              "      <td>-170.160494</td>\n",
              "    </tr>\n",
              "    <tr>\n",
              "      <th>1</th>\n",
              "      <td>-59.531173</td>\n",
              "      <td>-94.864141</td>\n",
              "      <td>128.541432</td>\n",
              "      <td>71.318246</td>\n",
              "    </tr>\n",
              "    <tr>\n",
              "      <th>2</th>\n",
              "      <td>-43.896931</td>\n",
              "      <td>-12.967586</td>\n",
              "      <td>-134.291067</td>\n",
              "      <td>-38.603037</td>\n",
              "    </tr>\n",
              "    <tr>\n",
              "      <th>3</th>\n",
              "      <td>81.395823</td>\n",
              "      <td>-3.279894</td>\n",
              "      <td>190.710091</td>\n",
              "      <td>-82.345975</td>\n",
              "    </tr>\n",
              "    <tr>\n",
              "      <th>4</th>\n",
              "      <td>-115.402630</td>\n",
              "      <td>-31.009866</td>\n",
              "      <td>190.358758</td>\n",
              "      <td>150.045696</td>\n",
              "    </tr>\n",
              "    <tr>\n",
              "      <th>5</th>\n",
              "      <td>12.246202</td>\n",
              "      <td>134.084025</td>\n",
              "      <td>-45.589402</td>\n",
              "      <td>-87.761398</td>\n",
              "    </tr>\n",
              "    <tr>\n",
              "      <th>6</th>\n",
              "      <td>10.191882</td>\n",
              "      <td>1.111661</td>\n",
              "      <td>67.124739</td>\n",
              "      <td>-112.792733</td>\n",
              "    </tr>\n",
              "    <tr>\n",
              "      <th>7</th>\n",
              "      <td>-161.404070</td>\n",
              "      <td>59.384956</td>\n",
              "      <td>169.140673</td>\n",
              "      <td>64.059885</td>\n",
              "    </tr>\n",
              "    <tr>\n",
              "      <th>8</th>\n",
              "      <td>-158.282761</td>\n",
              "      <td>132.412615</td>\n",
              "      <td>-227.939991</td>\n",
              "      <td>62.231557</td>\n",
              "    </tr>\n",
              "    <tr>\n",
              "      <th>9</th>\n",
              "      <td>-43.147779</td>\n",
              "      <td>-38.796498</td>\n",
              "      <td>196.750378</td>\n",
              "      <td>18.076039</td>\n",
              "    </tr>\n",
              "  </tbody>\n",
              "</table>\n",
              "</div>"
            ],
            "text/plain": [
              "            a           b           c           d\n",
              "0   -1.572347   88.625021  135.435318 -170.160494\n",
              "1  -59.531173  -94.864141  128.541432   71.318246\n",
              "2  -43.896931  -12.967586 -134.291067  -38.603037\n",
              "3   81.395823   -3.279894  190.710091  -82.345975\n",
              "4 -115.402630  -31.009866  190.358758  150.045696\n",
              "5   12.246202  134.084025  -45.589402  -87.761398\n",
              "6   10.191882    1.111661   67.124739 -112.792733\n",
              "7 -161.404070   59.384956  169.140673   64.059885\n",
              "8 -158.282761  132.412615 -227.939991   62.231557\n",
              "9  -43.147779  -38.796498  196.750378   18.076039"
            ]
          },
          "metadata": {
            "tags": []
          },
          "execution_count": 3
        }
      ]
    },
    {
      "cell_type": "code",
      "metadata": {
        "colab": {
          "base_uri": "https://localhost:8080/",
          "height": 493
        },
        "id": "InSFHMVVJFLx",
        "outputId": "ce0c6f57-562e-42d8-e273-400de38d2123"
      },
      "source": [
        "df.plot(kind = 'bar', figsize=(15,8))\n",
        "plt.title('Bar graph', fontsize = 20)\n",
        "plt.xlabel('X-axis', fontsize = 15, color = 'g')\n",
        "plt.ylabel('Y-axis', fontsize = 15, color = 'g')\n",
        "plt.legend()\n",
        "plt.show()"
      ],
      "execution_count": 4,
      "outputs": [
        {
          "output_type": "display_data",
          "data": {
            "image/png": "[encoded data removed]",
            "text/plain": [
              "<Figure size 1080x576 with 1 Axes>"
            ]
          },
          "metadata": {
            "tags": [],
            "needs_background": "light"
          }
        }
      ]
    }
  ]
}